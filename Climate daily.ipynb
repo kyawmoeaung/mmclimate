{
 "cells": [
  {
   "cell_type": "markdown",
   "metadata": {},
   "source": [
    "### ရာသီဥတု ပြောင်းလဲမှုဆိုင်ရာ ရှေ့ပြေးခန့်မှန်းချက်များ ဖော်ထုတ်နိုင်ရန် မိုးလေဝသအချက်အလက်များအား SimCLIM ဆော့ဖ်ဝဲတွင် အသုံးပြုနိုင်ရေး R script"
   ]
  },
  {
   "cell_type": "code",
   "execution_count": null,
   "metadata": {
    "slideshow": {
     "slide_type": "fragment"
    }
   },
   "outputs": [],
   "source": [
    "getwd() # to see your working directory\n",
    "setwd(getwd()) # to change or set another working directry"
   ]
  },
  {
   "cell_type": "markdown",
   "metadata": {},
   "source": [
    "R တွင် ဖိုင်အမျိုးမျိုးအား read.table, read.csv, read.delim, read.csv2 စသည့် အသုံးအနှုန်းများဖြင့် အသုံးပြုနိုင်သော်လည်း မိမိ ခေါ်ယူလိုသည့် ဖိုင်အမျိုးအစား\n",
    "အလိုက် အနည်းငယ် ကွဲပြားပါသည်။ csv သို့မဟုတ် txt နှင့် သိမ်းဆည်းထားသည့် ဖိုင်များကို read.table, read.csv တို့ဖြင့် အများဆုံးအသုံးပြုထည့်သွင်း ကြပါသည်။\n",
    "အဓိက သတိထားရမည့် အချက်မှာ column တစ်ခုချင်းစီကို comma သို့မဟုတ် tab သို့မဟုတ် | သို့မဟုတ် Semi Comma တို့ ခွဲခြားထားပုံကို သိရှိရန်ဖြစ်ပါသည်။ \n",
    "comma ဆိုလျှင် sep = \",\" \n",
    "data <- read.table or read.csv(\"your file\", sep =\",\", header = FALSE) လို့သုံးရပါမယ်။\n",
    "tab ဆိုလျှင် sep = \"\\t\"\n",
    "data <- read.table or read.csv(\"your file\", sep = \"\\t\", header = FALSE) လို့ သုံးရပါမယ်။\n",
    "space ဆိုလျှင် sep = \" \"\n",
    "| ဆိုလျှင် \"|\"\n",
    "semi comma ဆိုလျှင် \";\""
   ]
  },
  {
   "cell_type": "markdown",
   "metadata": {},
   "source": [
    "### အချက်အလက် အား R program အတွင်း ထည့်သွင်းခြင်း"
   ]
  },
  {
   "cell_type": "code",
   "execution_count": null,
   "metadata": {
    "slideshow": {
     "slide_type": "slide"
    }
   },
   "outputs": [],
   "source": [
    "station <- read.csv(\"https://raw.githubusercontent.com/kyawmoeaung/mmclimate/master/MAUBIN.txt\",\n",
    "                sep =\"\\t\", header = FALSE) # read data from github repository. "
   ]
  },
  {
   "cell_type": "markdown",
   "metadata": {},
   "source": [
    "သတိပြုရန်\n",
    "ကော်လံ ၆ ခု ပါသည့် အချက်အလက်များကို မိုးလေဝသစခန်းများအလိုက် တစ်ဖိုင်ချင်းစီ ကို အထက်ပါလိုင်းအတွင်းမှ \"https://raw.githubusercontent.com/kywmoeaung/mmclimate/master/MAUBIN.txt\" နေရာတွင် သင့်ဖိုင် နေရာဖြင့် အစားသွင်းရပါမည်။ အမှားတွေ့ပါက sep = \"\\t\" နေရာ၌ \",\" ဟုအစားထိုးခြင်း၊\n",
    "မိမိဖိုင်တည်နေရာ မှန်မမှန် နှင့် ဖိုင်အမျိုးအစား မှန်မမှန် စစ်ဆေးခြင်း၊\n"
   ]
  },
  {
   "cell_type": "markdown",
   "metadata": {},
   "source": [
    "###  Column များ၏ အမည်များ ပေးခြင်း နှင့် ပြန်စိစစ်ခြင်း "
   ]
  },
  {
   "cell_type": "code",
   "execution_count": null,
   "metadata": {
    "slideshow": {
     "slide_type": "slide"
    }
   },
   "outputs": [],
   "source": [
    "col <- c(\"Year\", \"Month\", \"Day\", \"Rainfall\", \"MaxTem\", \"MinTem\") # Because the data contain Six columns but no header, thus give header name"
   ]
  },
  {
   "cell_type": "code",
   "execution_count": null,
   "metadata": {
    "slideshow": {
     "slide_type": "notes"
    }
   },
   "outputs": [],
   "source": [
    "colnames(station) <- col # change your header name (optional), if you do not want to change column name, you know which column mean what\n",
    "head(station) # View the first six lines\n",
    "tail(station) # View the last six rows"
   ]
  },
  {
   "cell_type": "markdown",
   "metadata": {},
   "source": [
    "### ပျမ်းမျှ အပူချိန် အား တွက်ချက်ခြင်း"
   ]
  },
  {
   "cell_type": "code",
   "execution_count": null,
   "metadata": {},
   "outputs": [],
   "source": [
    "library(tidyverse) "
   ]
  },
  {
   "cell_type": "code",
   "execution_count": null,
   "metadata": {},
   "outputs": [],
   "source": [
    "MTem <- station %>%\n",
    "mutate(MTem = (MaxTem + MinTem)/2)"
   ]
  },
  {
   "cell_type": "markdown",
   "metadata": {},
   "source": [
    "### ဇယား များအား အပြီးသတ်ပြန်လည် ပြင်ဆင်ခြင်း (၁) (ကော်လံ ၆ ခု ပါသည့် အချက်အလက်များ)"
   ]
  },
  {
   "cell_type": "code",
   "execution_count": null,
   "metadata": {
    "slideshow": {
     "slide_type": "slide"
    }
   },
   "outputs": [],
   "source": [
    "rainfall <- station[, 1:4] # extract only the first four column from your data frame that is \"Year\", \"Month\", \"Day\"\n",
    "maxTem <- station[, c(-4, -6, -7)] # extract four columns again, but they are not in sequence. We need to remove 4th and 6th column\n",
    "minTem <- station[,c(-4,-5, -7)] # Again for this variable, we need to remove 4th column and 5th column\n",
    "meanTem <- MTem[, c(-4:-6)]\n",
    "print(meanTem)"
   ]
  },
  {
   "cell_type": "markdown",
   "metadata": {},
   "source": [
    "### လိုအပ်သည့် R package များ ဆွဲတင်ခြင်း"
   ]
  },
  {
   "cell_type": "code",
   "execution_count": null,
   "metadata": {},
   "outputs": [],
   "source": [
    "# library(stringr) # this library is for strings (text) manipulation\n",
    "library(lubridate) # date time manipulation"
   ]
  },
  {
   "cell_type": "markdown",
   "metadata": {},
   "source": [
    "### SimCLIM Desktop ဆော့ဖ်ဝဲတွင် ထည့်သွင်းရမည့် ပထမဦးဆုံး ကော်လံအား နှစ်လရက် yyyymmdd ပုံစံ ပြောင်းလဲခြင်း နှင့် မူလဇယားသုံးခု တွင် ပေါင်းစပ်ခြင်း"
   ]
  },
  {
   "cell_type": "code",
   "execution_count": null,
   "metadata": {
    "slideshow": {
     "slide_type": "slide"
    }
   },
   "outputs": [],
   "source": [
    "DATETIME <- str_replace_all(as.character(ymd(paste(rainfall$Year, rainfall$Month, rainfall$Day))), \"-\", \"\") # extract 8 character format\n",
    "\n",
    "df <- cbind(as.integer(DATETIME), rainfall) # မိုးရေချိန် ဇယား \n",
    "df <- df[, -2:-4] # မလိုအပ်တော့သည့် ကော်လံသုံးခုအား ဖယ်ထုတ်ခြင်း\n",
    "df1 <- cbind(as.integer(DATETIME), maxTem) # အမြင့်ဆုံး အပူချိန် ဇယား\n",
    "df1 <- df1[,-2:-4] # မလိုအပ်တဲ့ ကော်လံသုံးခုကို ဖယ်ထုတ်ခြင်း\n",
    "df2 <- cbind(as.integer(DATETIME), minTem) # အနိမ့်ဆုံးအပူချိန်ဇယား\n",
    "df2 <- df2[,-2:-4]\n",
    "df3 <- cbind(as.integer(DATETIME), meanTem)\n",
    "df3 <- df3[, -2:-4]"
   ]
  },
  {
   "cell_type": "code",
   "execution_count": null,
   "metadata": {},
   "outputs": [],
   "source": [
    "head(df)\n",
    "head(df1)\n",
    "head(df2)\n",
    "head(df3)"
   ]
  },
  {
   "cell_type": "markdown",
   "metadata": {},
   "source": [
    "### ဇယားများအား ပြန်လည်ရေးသားသိမ်းဆည်းခြင်း\n",
    "\n",
    "ဇယားများ ရေးသားရာတွင် \"write.table\" function ကို အသုံးပြုနိုင်ပါသည်။ na wတန်ဖိုးများကို -၉၉၉.၀  ဖြင့် အစားထိုးထားပါသည်။ row.names များနှင့် col.names များကို ဖျောက်ထားနိုင်ရန်အတွက် (SimCLIM တွင် ထည့်သွင်းရာ၌ လိုအပ်သည့် အတွက်) FALSE ဟု အသုံးပြုထားပါသည်။ write.table(df, \"C:/Users/Kyaw Moe Aung/clean_maubin_rainfall.csv\", na = \"-999.0\", row.names = FALSE, col.names = FALSE) တွင် \"C:/Users/Kyaw Moe Aung/\"ဟူသော နေရာတွင် သင့် သိမ်းဆည်းလိုသည့် folder လမ်းကြောင်းအား ထည့်သွင်းရမည် ဖြစ်ပြီး ဖိုင်အမည်များကိုလည်း မိမိ မူရင်းဖိုင် သို့မဟုတ် မိုးလေဝသစခန်း အမည် ထည့်သွင်းသိမ်းဆည်းရန် လိုအပ်ပါမည်။"
   ]
  },
  {
   "cell_type": "code",
   "execution_count": null,
   "metadata": {
    "slideshow": {
     "slide_type": "slide"
    }
   },
   "outputs": [],
   "source": [
    "write.table(df, \"C:/Users/Kyaw Moe Aung/clean_maubin_rainfall.csv\", na = \"-999.0\", row.names = FALSE, col.names = FALSE)\n",
    "write.table(df1, \"C:/Users/Kyaw Moe Aung/clean_maubin_maxTem.csv\", na = \"-999.0\", row.names = FALSE, col.names = FALSE)\n",
    "write.table(df2, \"C:/Users/Kyaw Moe Aung/clean_maubin_minTem.csv\", na = \"-999.0\", row.names = FALSE, col.names = FALSE)\n",
    "write.table(df3, \"C:/Users/Kyaw Moe Aung/clean_maubin_meanTem.csv\", na = \"-999.0\", row.names = FALSE, col.names = FALSE)"
   ]
  },
  {
   "cell_type": "markdown",
   "metadata": {},
   "source": [
    "## option 2 -ဇယား များ ပြန်လည် ပြင်ဆင်ခြင်း (၂)"
   ]
  },
  {
   "cell_type": "markdown",
   "metadata": {
    "slideshow": {
     "slide_type": "slide"
    }
   },
   "source": [
    "### ရက်စွဲ ကော်လံအား အတန်းလိုက် ထုတ်ယူခြင်း\n",
    "\n",
    "ဤလုပ်ငန်းလုပ်ဆောင်ရန် dplyr package မှ spread ဟူသည့် နည်းလမ်းကို အသုံးပြုပါမည်။ ပထမဦးစွာ dplyr package ကို ဆွဲခေါ်ပါ။ မရှိပါက install.packages(\"dplyr\") ဟု ရိုက်ထည့်ပါ။ ပြီးလျှင်library(dplyr)ကို ပြန်ခေါ်ပါ။"
   ]
  },
  {
   "cell_type": "code",
   "execution_count": null,
   "metadata": {
    "scrolled": true,
    "slideshow": {
     "slide_type": "subslide"
    }
   },
   "outputs": [],
   "source": [
    "library(dplyr) # load dplyr package"
   ]
  },
  {
   "cell_type": "code",
   "execution_count": null,
   "metadata": {
    "slideshow": {
     "slide_type": "slide"
    }
   },
   "outputs": [],
   "source": [
    "# You can use the following to reformat your row-wise data to column-wise data\n",
    "rainfall_df <- spread(data = rainfall, key = \"Day\", value = \"Rainfall\")\n",
    "print(rainfall_df) # check if it is correct"
   ]
  },
  {
   "cell_type": "code",
   "execution_count": null,
   "metadata": {},
   "outputs": [],
   "source": [
    "maxTem_df <- spread(data = maxTem, key = \"Day\", value = \"MaxTem\", )\n",
    "print(maxTem_df)"
   ]
  },
  {
   "cell_type": "code",
   "execution_count": null,
   "metadata": {},
   "outputs": [],
   "source": [
    "minTem_df <- spread(data = minTem, key = \"Day\", value = \"MinTem\")\n",
    "print(minTem_df)"
   ]
  },
  {
   "cell_type": "code",
   "execution_count": null,
   "metadata": {},
   "outputs": [],
   "source": [
    "meanTem_df <- spread(data = meanTem, key = \"Day\", value = \"MTem\")\n",
    "print(meanTem_df)"
   ]
  },
  {
   "cell_type": "markdown",
   "metadata": {},
   "source": [
    "#### ဇယားများအား အပြီးသတ်ပြင်ဆင်ခြင်း နှင့် သိမ်းဆည်းခြင်း (Daily Data)"
   ]
  },
  {
   "cell_type": "code",
   "execution_count": null,
   "metadata": {},
   "outputs": [],
   "source": [
    "write.table(rainfall_df, \"C:/Users/Kyaw Moe Aung/clean_maubin_rainfall_Op2.csv\", na = \"-999.0\", row.names = FALSE, col.names = FALSE)\n",
    "write.table(maxTem_df, \"C:/Users/Kyaw Moe Aung/clean_maubin_maxTem_Op2.csv\", na = \"-999.0\", row.names = FALSE, col.names = FALSE)\n",
    "write.table(minTem_df, \"C:/Users/Kyaw Moe Aung/clean_maubin_minTem_Op2.csv\", na = \"-999.0\", row.names = FALSE, col.names = FALSE)\n",
    "write.table(meanTem_df, \"C:/Users/Kyaw Moe Aung/clean_maubin_meanTem_Op2.csv\", na = \"-999.0\", row.names = FALSE, col.names = FALSE)"
   ]
  },
  {
   "cell_type": "code",
   "execution_count": null,
   "metadata": {},
   "outputs": [],
   "source": [
    "Daily Data များအတွက် တွက်ချက်မှုများ ပြီးစီးပြီဖြစ်ပါသည်။ အခြား Station Data များအတွက် အချက်အလက်များ ထည့်သွင်းခြင်းရာတွင် - \n",
    "\n",
    "\n",
    "၁။ ဖိုင်ထည့်မည့်နေရာအား ပြင်ဆင်ခြင်း\n",
    "၂။ write.table ဟူသည့် လိုင်းတွင် မိမိ သိမ်းဆည်းမည့် မိုးလေဝသစခန်းအမည် နှင့် မိမိ ကွန်ပြူတာ၌ သိမ်းဆည်းမည့် နေရာကို သတိပြုပြင်ဆင်ခြင်း၊\n",
    "၃။ အကယ်၍ ကိုယ်ထည့်သွင်းလိုသည့်ဖိုင်အမျိုးအစားသည် Microsoft Excel ဖိုင်ဖြစ်ပါက library(readxl), library(XLConnect) တို့လိုအပ်ပါမည်။ https://www.rdocumentation.org/packages/XLConnect/versions/0.2-15\n",
    "တွင် လေ့လာနိုင်ပါသည်။"
   ]
  },
  {
   "cell_type": "raw",
   "metadata": {
    "slideshow": {
     "slide_type": "slide"
    }
   },
   "source": [
    "#t <- paste(mau$Year,mau$Month, mau$Day) # Now we want to combine Year, Month and Day together\n",
    "#str_trim(t) # remove any white spaces"
   ]
  },
  {
   "cell_type": "raw",
   "metadata": {
    "slideshow": {
     "slide_type": "slide"
    }
   },
   "source": [
    "#library(lubridate) # Use this package to manage datetime format"
   ]
  },
  {
   "cell_type": "raw",
   "metadata": {
    "slideshow": {
     "slide_type": "slide"
    }
   },
   "source": [
    "#newdate <- ymd(t) # change to date time format\n",
    "#dm <- str_replace(unique(str_sub(as.character(newdate), 1, 7)), \"-\", \"\") # first change date type to character type: Then remove \"-\"and the last two character."
   ]
  },
  {
   "cell_type": "raw",
   "metadata": {},
   "source": [
    "#dm"
   ]
  },
  {
   "cell_type": "raw",
   "metadata": {
    "scrolled": true,
    "slideshow": {
     "slide_type": "slide"
    }
   },
   "source": [
    "newrainfall <- cbind(dm,df)\n",
    "clean_maubin_rainfall <- newrainfall[,-2:-3]\n",
    "clean_maubin_rainfall"
   ]
  },
  {
   "cell_type": "raw",
   "metadata": {},
   "source": [
    "newrainfall"
   ]
  },
  {
   "cell_type": "raw",
   "metadata": {
    "slideshow": {
     "slide_type": "slide"
    }
   },
   "source": [
    "args(write.csv)\n",
    "write.csv(clean_maubin_rainfall, \"C:/Users/Kyaw Moe Aung/clean_maubin_rainfall.csv\")"
   ]
  },
  {
   "cell_type": "raw",
   "metadata": {
    "slideshow": {
     "slide_type": "slide"
    }
   },
   "source": [
    "# You can use the following to reformat your row-wise data to column-wise data\n",
    "df <- spread(data = rainfall, key = \"Day\", value = \"Rainfall\")\n",
    "df # check if it is correct"
   ]
  },
  {
   "cell_type": "raw",
   "metadata": {
    "slideshow": {
     "slide_type": "slide"
    }
   },
   "source": [
    "# You can use the following to reformat your row-wise data to column-wise data\n",
    "df1 <- spread(data = maxTem, key = \"Day\", value = \"MaxTem\")\n",
    "df1 # check if it is correct"
   ]
  },
  {
   "cell_type": "raw",
   "metadata": {
    "slideshow": {
     "slide_type": "slide"
    }
   },
   "source": [
    "newmaxTem <- cbind(dm, df1)\n",
    "clean_maubin_maxTem <- newmaxTem[,-2:-3]\n",
    "clean_maubin_maxTem"
   ]
  },
  {
   "cell_type": "code",
   "execution_count": null,
   "metadata": {
    "slideshow": {
     "slide_type": "slide"
    }
   },
   "outputs": [],
   "source": [
    "write.csv(clean_maubin_maxTem, \"C:/Users/Kyaw Moe Aung/clean_maubin_maxTem.csv\")"
   ]
  },
  {
   "cell_type": "code",
   "execution_count": null,
   "metadata": {
    "slideshow": {
     "slide_type": "slide"
    }
   },
   "outputs": [],
   "source": [
    "# You can use the following to reformat your row-wise data to column-wise data\n",
    "df2 <- spread(data = minTem, key = \"Day\", value = \"MinTem\")\n",
    "df2 # check if it is correct"
   ]
  },
  {
   "cell_type": "code",
   "execution_count": null,
   "metadata": {
    "slideshow": {
     "slide_type": "slide"
    }
   },
   "outputs": [],
   "source": [
    "newminTem <- cbind(dm, df2)\n",
    "clean_maubin_minTem <- newminTem[,-2:-3]\n",
    "clean_maubin_minTem\n",
    "write.csv(clean_maubin_minTem, \"C:/Users/Kyaw Moe Aung/clean_maubin_minTem.csv\")"
   ]
  }
 ],
 "metadata": {
  "kernelspec": {
   "display_name": "R",
   "language": "R",
   "name": "ir"
  },
  "language_info": {
   "codemirror_mode": "r",
   "file_extension": ".r",
   "mimetype": "text/x-r-source",
   "name": "R",
   "pygments_lexer": "r",
   "version": "3.4.1"
  }
 },
 "nbformat": 4,
 "nbformat_minor": 2
}
